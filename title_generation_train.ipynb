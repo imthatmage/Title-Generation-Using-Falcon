{
 "cells": [
  {
   "cell_type": "code",
   "execution_count": 1,
   "metadata": {},
   "outputs": [],
   "source": [
    "import os\n",
    "import bitsandbytes as bnb\n",
    "import pandas as pd\n",
    "import torch\n",
    "import torch.nn as nn\n",
    "import transformers\n",
    "from datasets import load_dataset\n",
    "from peft import (\n",
    "    LoraConfig,\n",
    "    PeftConfig,\n",
    "    get_peft_model,\n",
    "    prepare_model_for_kbit_training,\n",
    ")\n",
    "from transformers import (\n",
    "    AutoConfig,\n",
    "    AutoModelForCausalLM,\n",
    "    AutoTokenizer,\n",
    "    BitsAndBytesConfig,\n",
    ")\n",
    "\n",
    "import matplotlib.pyplot as plt\n",
    "import numpy as np\n",
    "from sklearn.model_selection import train_test_split\n",
    "  \n",
    "# using the style for the plot \n",
    "plt.style.use('dark_background') \n",
    "os.environ[\"CUDA_VISIBLE_DEVICES\"] = \"0,1\""
   ]
  },
  {
   "cell_type": "code",
   "execution_count": 2,
   "metadata": {},
   "outputs": [
    {
     "data": {
      "application/vnd.jupyter.widget-view+json": {
       "model_id": "3a008de7831a436ba61edd7e95d72e42",
       "version_major": 2,
       "version_minor": 0
      },
      "text/plain": [
       "Loading checkpoint shards:   0%|          | 0/2 [00:00<?, ?it/s]"
      ]
     },
     "metadata": {},
     "output_type": "display_data"
    }
   ],
   "source": [
    "model_id = \"tiiuae/falcon-7b\"\n",
    "\n",
    "bnb_config = BitsAndBytesConfig(\n",
    "    load_in_4bit=True,\n",
    "    load_4bit_use_double_quant=True,\n",
    "    bnb_4bit_quant_type=\"nf4\",\n",
    "    bnb_4bit_compute_dtype=torch.bfloat16,\n",
    ")\n",
    "\n",
    "model =AutoModelForCausalLM.from_pretrained(\n",
    "    model_id,\n",
    "    device_map=\"auto\",\n",
    "    quantization_config=bnb_config,\n",
    ")\n",
    "\n",
    "tokenizer = AutoTokenizer.from_pretrained(model_id)\n",
    "tokenizer.pad_token = tokenizer.eos_token"
   ]
  },
  {
   "cell_type": "code",
   "execution_count": 3,
   "metadata": {},
   "outputs": [],
   "source": [
    "model = prepare_model_for_kbit_training(model)"
   ]
  },
  {
   "cell_type": "code",
   "execution_count": 4,
   "metadata": {},
   "outputs": [],
   "source": [
    "config = LoraConfig(\n",
    "    r=32,\n",
    "    lora_alpha=32,\n",
    "    target_modules=[\"query_key_value\"],\n",
    "    lora_dropout=0.05,\n",
    "    bias=\"none\",\n",
    "    task_type=\"CAUSAL_LM\"\n",
    ")\n",
    "\n",
    "model = get_peft_model(model, config)"
   ]
  },
  {
   "cell_type": "markdown",
   "metadata": {},
   "source": [
    "## Get dataset and split it"
   ]
  },
  {
   "cell_type": "code",
   "execution_count": 5,
   "metadata": {},
   "outputs": [],
   "source": [
    "df = pd.read_csv(\"train.csv\")\n",
    "df.drop_duplicates(inplace=True)\n",
    "\n",
    "TEST_SIZE = 0.02\n",
    "train_df, val_df = train_test_split(df, test_size=TEST_SIZE)\n",
    "train_df.to_csv(\"train_new.csv\")\n",
    "val_df.to_csv(\"val_new.csv\")"
   ]
  },
  {
   "cell_type": "code",
   "execution_count": 6,
   "metadata": {},
   "outputs": [
    {
     "data": {
      "text/html": [
       "<div>\n",
       "<style scoped>\n",
       "    .dataframe tbody tr th:only-of-type {\n",
       "        vertical-align: middle;\n",
       "    }\n",
       "\n",
       "    .dataframe tbody tr th {\n",
       "        vertical-align: top;\n",
       "    }\n",
       "\n",
       "    .dataframe thead th {\n",
       "        text-align: right;\n",
       "    }\n",
       "</style>\n",
       "<table border=\"1\" class=\"dataframe\">\n",
       "  <thead>\n",
       "    <tr style=\"text-align: right;\">\n",
       "      <th></th>\n",
       "      <th>Unnamed: 0.1</th>\n",
       "      <th>Unnamed: 0</th>\n",
       "      <th>abstract</th>\n",
       "      <th>title</th>\n",
       "    </tr>\n",
       "  </thead>\n",
       "  <tbody>\n",
       "    <tr>\n",
       "      <th>0</th>\n",
       "      <td>0</td>\n",
       "      <td>0</td>\n",
       "      <td>we consider the problem of utility maximizatio...</td>\n",
       "      <td>on optimal investment with processes of long o...</td>\n",
       "    </tr>\n",
       "    <tr>\n",
       "      <th>1</th>\n",
       "      <td>1</td>\n",
       "      <td>1</td>\n",
       "      <td>in this paper we provide an explicit formula f...</td>\n",
       "      <td>boolean complexes for ferrers graphs</td>\n",
       "    </tr>\n",
       "    <tr>\n",
       "      <th>2</th>\n",
       "      <td>2</td>\n",
       "      <td>2</td>\n",
       "      <td>kinesin-5, also known as eg5 in vertebrates is...</td>\n",
       "      <td>relative velocity of sliding of microtubules b...</td>\n",
       "    </tr>\n",
       "    <tr>\n",
       "      <th>3</th>\n",
       "      <td>3</td>\n",
       "      <td>3</td>\n",
       "      <td>we discuss the transition paths in a coupled b...</td>\n",
       "      <td>bifurcation of transition paths induced by cou...</td>\n",
       "    </tr>\n",
       "    <tr>\n",
       "      <th>4</th>\n",
       "      <td>4</td>\n",
       "      <td>4</td>\n",
       "      <td>two types of room temperature detectors of ter...</td>\n",
       "      <td>all-electric detectors of the polarization sta...</td>\n",
       "    </tr>\n",
       "    <tr>\n",
       "      <th>5</th>\n",
       "      <td>5</td>\n",
       "      <td>5</td>\n",
       "      <td>we characterize stability regions of two-user ...</td>\n",
       "      <td>duality and stability regions of multi-rate br...</td>\n",
       "    </tr>\n",
       "    <tr>\n",
       "      <th>6</th>\n",
       "      <td>6</td>\n",
       "      <td>6</td>\n",
       "      <td>we present reconstruction algorithms for smoot...</td>\n",
       "      <td>compressed sensing for block-sparse smooth sig...</td>\n",
       "    </tr>\n",
       "    <tr>\n",
       "      <th>7</th>\n",
       "      <td>7</td>\n",
       "      <td>7</td>\n",
       "      <td>the successive projection algorithm (spa) is a...</td>\n",
       "      <td>successive projection algorithm robust to outl...</td>\n",
       "    </tr>\n",
       "    <tr>\n",
       "      <th>8</th>\n",
       "      <td>8</td>\n",
       "      <td>8</td>\n",
       "      <td>while students may find spline interpolation e...</td>\n",
       "      <td>fluid-structure interaction for the classroom:...</td>\n",
       "    </tr>\n",
       "    <tr>\n",
       "      <th>9</th>\n",
       "      <td>9</td>\n",
       "      <td>9</td>\n",
       "      <td>both linear mixed models (lmms) and sparse reg...</td>\n",
       "      <td>polygenic modeling with bayesian sparse linear...</td>\n",
       "    </tr>\n",
       "    <tr>\n",
       "      <th>10</th>\n",
       "      <td>10</td>\n",
       "      <td>10</td>\n",
       "      <td>this article reviews the application of fragme...</td>\n",
       "      <td>fragment descriptors in virtual screening</td>\n",
       "    </tr>\n",
       "    <tr>\n",
       "      <th>11</th>\n",
       "      <td>11</td>\n",
       "      <td>11</td>\n",
       "      <td>cocycles are constructed by polynomial express...</td>\n",
       "      <td>polynomial cocycles of alexander quandles and ...</td>\n",
       "    </tr>\n",
       "    <tr>\n",
       "      <th>12</th>\n",
       "      <td>12</td>\n",
       "      <td>12</td>\n",
       "      <td>the layered structure and the rheological prop...</td>\n",
       "      <td>synergistic effects of modtc and zdtp on frict...</td>\n",
       "    </tr>\n",
       "    <tr>\n",
       "      <th>13</th>\n",
       "      <td>13</td>\n",
       "      <td>13</td>\n",
       "      <td>american options are studied in a general disc...</td>\n",
       "      <td>american options under proportional transactio...</td>\n",
       "    </tr>\n",
       "    <tr>\n",
       "      <th>14</th>\n",
       "      <td>14</td>\n",
       "      <td>14</td>\n",
       "      <td>in the present paper we show that the levy-ito...</td>\n",
       "      <td>levy processes: long time behavior and convolu...</td>\n",
       "    </tr>\n",
       "    <tr>\n",
       "      <th>15</th>\n",
       "      <td>15</td>\n",
       "      <td>15</td>\n",
       "      <td>abdus salam was known for his `grand views', g...</td>\n",
       "      <td>the grand view of physics</td>\n",
       "    </tr>\n",
       "    <tr>\n",
       "      <th>16</th>\n",
       "      <td>16</td>\n",
       "      <td>16</td>\n",
       "      <td>high-$p_t$ hadron-hadron correlations have bee...</td>\n",
       "      <td>phenix measurement of high-$p_t$ hadron-hadron...</td>\n",
       "    </tr>\n",
       "    <tr>\n",
       "      <th>17</th>\n",
       "      <td>17</td>\n",
       "      <td>17</td>\n",
       "      <td>allan variance (avar) was first introduced mor...</td>\n",
       "      <td>study of astronomical and geodetic series usin...</td>\n",
       "    </tr>\n",
       "    <tr>\n",
       "      <th>18</th>\n",
       "      <td>18</td>\n",
       "      <td>18</td>\n",
       "      <td>we analyse the influence of current induced to...</td>\n",
       "      <td>current-induced torques due to compensated ant...</td>\n",
       "    </tr>\n",
       "    <tr>\n",
       "      <th>19</th>\n",
       "      <td>19</td>\n",
       "      <td>19</td>\n",
       "      <td>since the 1970s there has been a large number ...</td>\n",
       "      <td>testing for voter rigging in small polling sta...</td>\n",
       "    </tr>\n",
       "  </tbody>\n",
       "</table>\n",
       "</div>"
      ],
      "text/plain": [
       "    Unnamed: 0.1  Unnamed: 0  \\\n",
       "0              0           0   \n",
       "1              1           1   \n",
       "2              2           2   \n",
       "3              3           3   \n",
       "4              4           4   \n",
       "5              5           5   \n",
       "6              6           6   \n",
       "7              7           7   \n",
       "8              8           8   \n",
       "9              9           9   \n",
       "10            10          10   \n",
       "11            11          11   \n",
       "12            12          12   \n",
       "13            13          13   \n",
       "14            14          14   \n",
       "15            15          15   \n",
       "16            16          16   \n",
       "17            17          17   \n",
       "18            18          18   \n",
       "19            19          19   \n",
       "\n",
       "                                             abstract  \\\n",
       "0   we consider the problem of utility maximizatio...   \n",
       "1   in this paper we provide an explicit formula f...   \n",
       "2   kinesin-5, also known as eg5 in vertebrates is...   \n",
       "3   we discuss the transition paths in a coupled b...   \n",
       "4   two types of room temperature detectors of ter...   \n",
       "5   we characterize stability regions of two-user ...   \n",
       "6   we present reconstruction algorithms for smoot...   \n",
       "7   the successive projection algorithm (spa) is a...   \n",
       "8   while students may find spline interpolation e...   \n",
       "9   both linear mixed models (lmms) and sparse reg...   \n",
       "10  this article reviews the application of fragme...   \n",
       "11  cocycles are constructed by polynomial express...   \n",
       "12  the layered structure and the rheological prop...   \n",
       "13  american options are studied in a general disc...   \n",
       "14  in the present paper we show that the levy-ito...   \n",
       "15  abdus salam was known for his `grand views', g...   \n",
       "16  high-$p_t$ hadron-hadron correlations have bee...   \n",
       "17  allan variance (avar) was first introduced mor...   \n",
       "18  we analyse the influence of current induced to...   \n",
       "19  since the 1970s there has been a large number ...   \n",
       "\n",
       "                                                title  \n",
       "0   on optimal investment with processes of long o...  \n",
       "1                boolean complexes for ferrers graphs  \n",
       "2   relative velocity of sliding of microtubules b...  \n",
       "3   bifurcation of transition paths induced by cou...  \n",
       "4   all-electric detectors of the polarization sta...  \n",
       "5   duality and stability regions of multi-rate br...  \n",
       "6   compressed sensing for block-sparse smooth sig...  \n",
       "7   successive projection algorithm robust to outl...  \n",
       "8   fluid-structure interaction for the classroom:...  \n",
       "9   polygenic modeling with bayesian sparse linear...  \n",
       "10          fragment descriptors in virtual screening  \n",
       "11  polynomial cocycles of alexander quandles and ...  \n",
       "12  synergistic effects of modtc and zdtp on frict...  \n",
       "13  american options under proportional transactio...  \n",
       "14  levy processes: long time behavior and convolu...  \n",
       "15                          the grand view of physics  \n",
       "16  phenix measurement of high-$p_t$ hadron-hadron...  \n",
       "17  study of astronomical and geodetic series usin...  \n",
       "18  current-induced torques due to compensated ant...  \n",
       "19  testing for voter rigging in small polling sta...  "
      ]
     },
     "execution_count": 6,
     "metadata": {},
     "output_type": "execute_result"
    }
   ],
   "source": [
    "df.head(20)"
   ]
  },
  {
   "cell_type": "markdown",
   "metadata": {},
   "source": [
    "## Check Distribution of Sentences Lenghts"
   ]
  },
  {
   "cell_type": "code",
   "execution_count": 7,
   "metadata": {},
   "outputs": [
    {
     "data": {
      "image/png": "[encoded data removed]",
      "text/plain": [
       "<Figure size 640x480 with 1 Axes>"
      ]
     },
     "metadata": {},
     "output_type": "display_data"
    },
    {
     "data": {
      "text/plain": [
       "Text(0.5, 1.0, 'Mean Length: 918.41')"
      ]
     },
     "execution_count": 7,
     "metadata": {},
     "output_type": "execute_result"
    },
    {
     "data": {
      "image/png": "[encoded data removed]",
      "text/plain": [
       "<Figure size 640x480 with 1 Axes>"
      ]
     },
     "metadata": {},
     "output_type": "display_data"
    }
   ],
   "source": [
    "title_lengths = [len(sent) for sent in df[\"title\"].values]\n",
    "abs_lengths = [len(sent) for sent in df[\"abstract\"].values]\n",
    "\n",
    "plt.hist(title_lengths, bins=30)\n",
    "plt.title(f\"Mean Length: {np.mean(title_lengths):.2f}\")\n",
    "plt.show()\n",
    "plt.hist(abs_lengths, bins=30)\n",
    "plt.title(f\"Mean Length: {np.mean(abs_lengths):.2f}\")"
   ]
  },
  {
   "cell_type": "markdown",
   "metadata": {},
   "source": [
    "## Prompt Template"
   ]
  },
  {
   "cell_type": "code",
   "execution_count": 8,
   "metadata": {},
   "outputs": [],
   "source": [
    "class PaperDataset:\n",
    "    def __init__(self, data):\n",
    "        self.data = data\n",
    "        \n",
    "    def __len__(self):\n",
    "        return len(self.data)\n",
    "    \n",
    "    def __getitem__(self, idx):\n",
    "        return {\n",
    "            'abstract': (self.data[idx]['abstract']).strip(),\n",
    "            'title': self.data[idx]['title'].strip()\n",
    "        }"
   ]
  },
  {
   "cell_type": "code",
   "execution_count": 9,
   "metadata": {},
   "outputs": [],
   "source": [
    "def collate_fn(data):\n",
    "    inputs, outputs = [], []\n",
    "\n",
    "    for x in data:\n",
    "        inp = f\"### Imagine yourself as a scientist who needs to come up with a title for an article. \\\n",
    "Your task is with known abstract of paper create possible title of it. Abstract: {x['abstract']}\\n\\n### Title: \"\n",
    "        input_ids = tokenizer(\n",
    "            inp,\n",
    "            add_special_tokens=True\n",
    "        )['input_ids']\n",
    "        label_ids = tokenizer(\n",
    "            x['title'] + tokenizer.eos_token,\n",
    "            add_special_tokens=False,\n",
    "            max_length=512,\n",
    "            truncation=True\n",
    "        )['input_ids']\n",
    "        inputs.append(torch.tensor(input_ids + label_ids))\n",
    "        outputs.append(torch.tensor([-100] * len(input_ids) + label_ids))\n",
    "        \n",
    "    input_ids = torch.nn.utils.rnn.pad_sequence(inputs, batch_first=True, padding_value=0)\n",
    "    labels = torch.nn.utils.rnn.pad_sequence(outputs, batch_first=True, padding_value=-100)\n",
    "        \n",
    "    return {\n",
    "        'input_ids': input_ids,\n",
    "        'labels': labels,\n",
    "        'attention_mask': input_ids.ne(0)\n",
    "    }"
   ]
  },
  {
   "cell_type": "code",
   "execution_count": 10,
   "metadata": {},
   "outputs": [
    {
     "data": {
      "application/vnd.jupyter.widget-view+json": {
       "model_id": "338156693892435eb2184fa62f3e0609",
       "version_major": 2,
       "version_minor": 0
      },
      "text/plain": [
       "Generating train split: 0 examples [00:00, ? examples/s]"
      ]
     },
     "metadata": {},
     "output_type": "display_data"
    },
    {
     "data": {
      "application/vnd.jupyter.widget-view+json": {
       "model_id": "10706db6b1df4217a10f144bd5b8237b",
       "version_major": 2,
       "version_minor": 0
      },
      "text/plain": [
       "Generating val split: 0 examples [00:00, ? examples/s]"
      ]
     },
     "metadata": {},
     "output_type": "display_data"
    }
   ],
   "source": [
    "data_files = {\"train\": \"train_new.csv\", \"val\": \"val_new.csv\"}\n",
    "data = load_dataset(\"csv\", data_files=data_files)"
   ]
  },
  {
   "cell_type": "code",
   "execution_count": 11,
   "metadata": {},
   "outputs": [
    {
     "data": {
      "text/plain": [
       "DatasetDict({\n",
       "    train: Dataset({\n",
       "        features: ['Unnamed: 0.2', 'Unnamed: 0.1', 'Unnamed: 0', 'abstract', 'title'],\n",
       "        num_rows: 103490\n",
       "    })\n",
       "    val: Dataset({\n",
       "        features: ['Unnamed: 0.2', 'Unnamed: 0.1', 'Unnamed: 0', 'abstract', 'title'],\n",
       "        num_rows: 2113\n",
       "    })\n",
       "})"
      ]
     },
     "execution_count": 11,
     "metadata": {},
     "output_type": "execute_result"
    }
   ],
   "source": [
    "data"
   ]
  },
  {
   "cell_type": "code",
   "execution_count": 12,
   "metadata": {},
   "outputs": [],
   "source": [
    "# 1200 models for current task should be enough for finetuning\n",
    "train_dataset = PaperDataset([data['train'][i] for i in range(int(0.2*len(data['train'])))])\n",
    "eval_dataset = PaperDataset([data['val'][i] for i in range(300)])"
   ]
  },
  {
   "cell_type": "markdown",
   "metadata": {},
   "source": [
    "# Metrics"
   ]
  },
  {
   "cell_type": "code",
   "execution_count": 13,
   "metadata": {},
   "outputs": [],
   "source": [
    "import evaluate\n",
    "import nltk\n",
    "\n",
    "metric = evaluate.load('rouge')\n",
    "\n",
    "def rouge_bleu_custom(pred):\n",
    "    references = pred.label_ids\n",
    "    predictions = pred.predictions[0]\n",
    "\n",
    "    ref_sent = []\n",
    "    pred_sent = []\n",
    "    macro_bleu = 0\n",
    "\n",
    "    for ref, predicted in zip(references, predictions):\n",
    "        # replace -100 with pad token\n",
    "        ref[ref == -100] = tokenizer.eos_token_id\n",
    "        ref_decoded = tokenizer.decode(ref, skip_special_tokens=True)\n",
    "        predicted[predicted == -100] = tokenizer.eos_token_id\n",
    "        predicted_decoded = tokenizer.decode(predicted, skip_special_tokens=True)\n",
    "        sequence_start = ref_decoded.find(\"### Title: \") + 11\n",
    "        ref_sent.append(ref_decoded[sequence_start:])\n",
    "        pred_sent.append(predicted_decoded[sequence_start:])\n",
    "        \n",
    "        bleu_score = nltk.translate.bleu_score.sentence_bleu(\n",
    "                [ref_decoded[sequence_start:]],\n",
    "                predicted_decoded[sequence_start:],\n",
    "                weights = [0.334, 0.333, 0.333]\n",
    "        )\n",
    "        macro_bleu += bleu_score\n",
    "    metrics_dict = metric.compute(predictions=pred_sent, references=ref_sent)\n",
    "    metrics_dict['bleu'] = macro_bleu / len(references)\n",
    "    return metrics_dict"
   ]
  },
  {
   "cell_type": "code",
   "execution_count": 14,
   "metadata": {},
   "outputs": [],
   "source": [
    "def preprocess_logits_for_metrics(logits, labels):\n",
    "    \"\"\"\n",
    "    Original Trainer may have a memory leak. \n",
    "    This is a workaround to avoid storing too many tensors that are not needed.\n",
    "    \"\"\"\n",
    "\n",
    "    pred_ids = torch.argmax(logits, dim=-1)\n",
    "    return pred_ids, labels"
   ]
  },
  {
   "cell_type": "markdown",
   "metadata": {},
   "source": [
    "## Training (messed up with metrics) "
   ]
  },
  {
   "cell_type": "code",
   "execution_count": 15,
   "metadata": {},
   "outputs": [
    {
     "name": "stderr",
     "output_type": "stream",
     "text": [
      "/usr/local/lib/python3.10/dist-packages/accelerate/accelerator.py:432: FutureWarning: Passing the following arguments to `Accelerator` is deprecated and will be removed in version 1.0 of Accelerate: dict_keys(['dispatch_batches', 'split_batches', 'even_batches', 'use_seedable_sampler']). Please pass an `accelerate.DataLoaderConfiguration` instead: \n",
      "dataloader_config = DataLoaderConfiguration(dispatch_batches=None, split_batches=False, even_batches=True, use_seedable_sampler=True)\n",
      "  warnings.warn(\n",
      "Detected kernel version 4.15.0, which is below the recommended minimum of 5.5.0; this can cause the process to hang. It is recommended to upgrade the kernel to the minimum version or higher.\n",
      "/usr/local/lib/python3.10/dist-packages/torch/utils/checkpoint.py:460: UserWarning: torch.utils.checkpoint: please pass in use_reentrant=True or use_reentrant=False explicitly. The default value of use_reentrant will be updated to be False in the future. To maintain current behavior, pass use_reentrant=True. It is recommended that you use use_reentrant=False. Refer to docs for more details on the differences between the two variants.\n",
      "  warnings.warn(\n"
     ]
    },
    {
     "data": {
      "text/html": [
       "\n",
       "    <div>\n",
       "      \n",
       "      <progress value='1035' max='1035' style='width:300px; height:20px; vertical-align: middle;'></progress>\n",
       "      [1035/1035 3:05:14, Epoch 1/1]\n",
       "    </div>\n",
       "    <table border=\"1\" class=\"dataframe\">\n",
       "  <thead>\n",
       " <tr style=\"text-align: left;\">\n",
       "      <th>Step</th>\n",
       "      <th>Training Loss</th>\n",
       "      <th>Validation Loss</th>\n",
       "      <th>Rouge1</th>\n",
       "      <th>Rouge2</th>\n",
       "      <th>Rougel</th>\n",
       "      <th>Rougelsum</th>\n",
       "      <th>Bleu</th>\n",
       "    </tr>\n",
       "  </thead>\n",
       "  <tbody>\n",
       "    <tr>\n",
       "      <td>250</td>\n",
       "      <td>1.640500</td>\n",
       "      <td>1.527030</td>\n",
       "      <td>0.076244</td>\n",
       "      <td>0.034130</td>\n",
       "      <td>0.067723</td>\n",
       "      <td>0.069258</td>\n",
       "      <td>0.059714</td>\n",
       "    </tr>\n",
       "    <tr>\n",
       "      <td>500</td>\n",
       "      <td>1.553200</td>\n",
       "      <td>1.513356</td>\n",
       "      <td>0.076971</td>\n",
       "      <td>0.035088</td>\n",
       "      <td>0.068752</td>\n",
       "      <td>0.068784</td>\n",
       "      <td>0.059747</td>\n",
       "    </tr>\n",
       "    <tr>\n",
       "      <td>750</td>\n",
       "      <td>1.577800</td>\n",
       "      <td>1.502270</td>\n",
       "      <td>0.075977</td>\n",
       "      <td>0.034294</td>\n",
       "      <td>0.067567</td>\n",
       "      <td>0.067742</td>\n",
       "      <td>0.059814</td>\n",
       "    </tr>\n",
       "    <tr>\n",
       "      <td>1000</td>\n",
       "      <td>1.355300</td>\n",
       "      <td>1.500344</td>\n",
       "      <td>0.076308</td>\n",
       "      <td>0.034704</td>\n",
       "      <td>0.068015</td>\n",
       "      <td>0.068164</td>\n",
       "      <td>0.059873</td>\n",
       "    </tr>\n",
       "  </tbody>\n",
       "</table><p>"
      ],
      "text/plain": [
       "<IPython.core.display.HTML object>"
      ]
     },
     "metadata": {},
     "output_type": "display_data"
    },
    {
     "name": "stderr",
     "output_type": "stream",
     "text": [
      "/usr/local/lib/python3.10/dist-packages/nltk/translate/bleu_score.py:552: UserWarning: \n",
      "The hypothesis contains 0 counts of 3-gram overlaps.\n",
      "Therefore the BLEU score evaluates to 0, independently of\n",
      "how many N-gram overlaps of lower order it contains.\n",
      "Consider using lower n-gram order or use SmoothingFunction()\n",
      "  warnings.warn(_msg)\n",
      "/usr/local/lib/python3.10/dist-packages/nltk/translate/bleu_score.py:552: UserWarning: \n",
      "The hypothesis contains 0 counts of 2-gram overlaps.\n",
      "Therefore the BLEU score evaluates to 0, independently of\n",
      "how many N-gram overlaps of lower order it contains.\n",
      "Consider using lower n-gram order or use SmoothingFunction()\n",
      "  warnings.warn(_msg)\n",
      "/usr/local/lib/python3.10/dist-packages/torch/utils/checkpoint.py:460: UserWarning: torch.utils.checkpoint: please pass in use_reentrant=True or use_reentrant=False explicitly. The default value of use_reentrant will be updated to be False in the future. To maintain current behavior, pass use_reentrant=True. It is recommended that you use use_reentrant=False. Refer to docs for more details on the differences between the two variants.\n",
      "  warnings.warn(\n",
      "/usr/local/lib/python3.10/dist-packages/torch/utils/checkpoint.py:460: UserWarning: torch.utils.checkpoint: please pass in use_reentrant=True or use_reentrant=False explicitly. The default value of use_reentrant will be updated to be False in the future. To maintain current behavior, pass use_reentrant=True. It is recommended that you use use_reentrant=False. Refer to docs for more details on the differences between the two variants.\n",
      "  warnings.warn(\n"
     ]
    },
    {
     "data": {
      "text/plain": [
       "TrainOutput(global_step=1035, training_loss=1.570867759824375, metrics={'train_runtime': 11125.6509, 'train_samples_per_second': 1.86, 'train_steps_per_second': 0.093, 'total_flos': 2.8631079596007552e+17, 'train_loss': 1.570867759824375, 'epoch': 1.0})"
      ]
     },
     "execution_count": 15,
     "metadata": {},
     "output_type": "execute_result"
    }
   ],
   "source": [
    "training_args = transformers.TrainingArguments(\n",
    "        per_device_train_batch_size=5,\n",
    "        per_device_eval_batch_size=5,\n",
    "        eval_accumulation_steps=40,\n",
    "        gradient_accumulation_steps=4,\n",
    "        num_train_epochs=1,\n",
    "        learning_rate=2e-4,\n",
    "        fp16=True,\n",
    "        save_total_limit=3,\n",
    "        logging_strategy='steps',\n",
    "        logging_steps=2,\n",
    "        output_dir=\"experiments\",\n",
    "        optim=\"paged_adamw_8bit\",\n",
    "        lr_scheduler_type=\"cosine\",\n",
    "        warmup_ratio=0.05,\n",
    "        logging_dir = './logs',\n",
    "        report_to = 'tensorboard',\n",
    "        evaluation_strategy ='steps',\n",
    "        eval_steps=250,\n",
    "        save_strategy='steps',\n",
    "        save_steps=500,\n",
    "        seed=42,\n",
    "        remove_unused_columns=False,\n",
    "        load_best_model_at_end=True,\n",
    ")\n",
    "\n",
    "trainer = transformers.Trainer(\n",
    "    model,\n",
    "    training_args,\n",
    "    tokenizer=tokenizer,\n",
    "    train_dataset=train_dataset,\n",
    "    eval_dataset=eval_dataset,\n",
    "    data_collator=collate_fn,\n",
    "    compute_metrics=rouge_bleu_custom,\n",
    "    preprocess_logits_for_metrics=preprocess_logits_for_metrics,\n",
    ")\n",
    "\n",
    "model.config.use_cache = False\n",
    "trainer.train()"
   ]
  },
  {
   "cell_type": "markdown",
   "metadata": {},
   "source": [
    "## Load checkpoint and test model"
   ]
  },
  {
   "cell_type": "code",
   "execution_count": 1,
   "metadata": {},
   "outputs": [],
   "source": [
    "import os\n",
    "import bitsandbytes as bnb\n",
    "import pandas as pd\n",
    "import torch\n",
    "import torch.nn as nn\n",
    "import transformers\n",
    "from datasets import load_dataset\n",
    "from peft import (\n",
    "    LoraConfig,\n",
    "    PeftConfig,\n",
    "    PeftModel,\n",
    "    get_peft_model,\n",
    "    prepare_model_for_kbit_training,\n",
    ")\n",
    "from transformers import (\n",
    "    AutoConfig,\n",
    "    AutoModelForCausalLM,\n",
    "    AutoTokenizer,\n",
    "    BitsAndBytesConfig,\n",
    ")\n",
    "\n",
    "import nltk\n",
    "import matplotlib.pyplot as plt\n",
    "import numpy as np\n",
    "from sklearn.model_selection import train_test_split\n",
    "from tqdm import tqdm\n",
    "  \n",
    "# using the style for the plot \n",
    "plt.style.use('dark_background') \n",
    "os.environ[\"CUDA_VISIBLE_DEVICES\"] = \"0\""
   ]
  },
  {
   "cell_type": "code",
   "execution_count": 2,
   "metadata": {},
   "outputs": [],
   "source": [
    "bnb_config = BitsAndBytesConfig(\n",
    "    load_in_4bit=True,\n",
    "    load_4bit_use_double_quant=True,\n",
    "    bnb_4bit_quant_type=\"nf4\",\n",
    "    bnb_4bit_compute_dtype=torch.bfloat16,\n",
    ")"
   ]
  },
  {
   "cell_type": "code",
   "execution_count": 3,
   "metadata": {},
   "outputs": [
    {
     "data": {
      "application/vnd.jupyter.widget-view+json": {
       "model_id": "129f6b66d3a24dc1845fea35d753bafe",
       "version_major": 2,
       "version_minor": 0
      },
      "text/plain": [
       "Loading checkpoint shards:   0%|          | 0/2 [00:00<?, ?it/s]"
      ]
     },
     "metadata": {},
     "output_type": "display_data"
    }
   ],
   "source": [
    "PEFT_MODEL = \"checkpoint-1000\"\n",
    "\n",
    "config = PeftConfig.from_pretrained(PEFT_MODEL)\n",
    "model = AutoModelForCausalLM.from_pretrained(\n",
    "    config.base_model_name_or_path,\n",
    "    return_dict=True,\n",
    "    quantization_config=bnb_config,\n",
    "    device_map=\"auto\",\n",
    ")\n",
    "\n",
    "tokenizer=AutoTokenizer.from_pretrained(config.base_model_name_or_path)\n",
    "tokenizer.pad_token = tokenizer.eos_token\n"
   ]
  },
  {
   "cell_type": "code",
   "execution_count": 4,
   "metadata": {},
   "outputs": [],
   "source": [
    "model = PeftModel.from_pretrained(model, PEFT_MODEL)"
   ]
  },
  {
   "cell_type": "code",
   "execution_count": 5,
   "metadata": {},
   "outputs": [],
   "source": [
    "# Параметры для генерации\n",
    "generation_params = {\n",
    "    \"max_new_tokens\": 150,\n",
    "    \"num_beams\": 2,\n",
    "    \"early_stopping\": True,\n",
    "    \"no_repeat_ngram_size\": 2,\n",
    "    \"eos_token_id\": tokenizer.eos_token_id,\n",
    "    \"pad_token_id\": tokenizer.eos_token_id,\n",
    "}"
   ]
  },
  {
   "cell_type": "code",
   "execution_count": 6,
   "metadata": {},
   "outputs": [],
   "source": [
    "import numpy as np"
   ]
  },
  {
   "cell_type": "code",
   "execution_count": 7,
   "metadata": {},
   "outputs": [],
   "source": [
    "data_files = {\"train\": \"train_new.csv\", \"val\": \"val_new.csv\"}\n",
    "data = load_dataset(\"csv\", data_files=data_files)"
   ]
  },
  {
   "cell_type": "code",
   "execution_count": 8,
   "metadata": {},
   "outputs": [
    {
     "name": "stdout",
     "output_type": "stream",
     "text": [
      "LLM Output: nuclear black hole and its host galaxy\n",
      "---------------------------------\n",
      "Validation Output: towards a comprehensive fueling-controlled theory on the growth of   massive black holes and host spheroids\n"
     ]
    }
   ],
   "source": [
    "i = np.random.randint(1350)\n",
    "prompt = f\"### Imagine yourself as a scientist who needs to come up with a title for an article. \\\n",
    "Your task is with known abstract of paper create possible title of it. Abstract: {data['val'][i]['abstract']}\\n\\n### Title: \"\n",
    "\n",
    "device = \"cuda:0\"\n",
    "encoding = tokenizer(prompt, return_tensors=\"pt\").to(device)\n",
    "with torch.inference_mode():\n",
    "    outputs = model.generate(\n",
    "        input_ids = encoding.input_ids,\n",
    "        attention_mask = encoding.attention_mask,\n",
    "        **generation_params,\n",
    "    )\n",
    "pred_text = tokenizer.decode(outputs[0], skip_special_tokens=True)\n",
    "sequence_start = pred_text.find(\"### Title: \") + 11\n",
    "print(\"LLM Output: \" + pred_text[sequence_start:])\n",
    "print(\"---------------------------------\")\n",
    "print(\"Validation Output: \" + data['val'][i]['title'])"
   ]
  },
  {
   "cell_type": "code",
   "execution_count": 9,
   "metadata": {},
   "outputs": [
    {
     "name": "stderr",
     "output_type": "stream",
     "text": [
      "100%|██████████| 60/60 [03:25<00:00,  3.43s/it]\n"
     ]
    }
   ],
   "source": [
    "val_answers = []\n",
    "for abstract_str in tqdm(data[\"val\"][\"abstract\"][:60]):\n",
    "    prompt = f\"### Imagine yourself as a scientist who needs to come up with a title for an article. \\\n",
    "Your task is with known abstract of paper create possible title of it. Abstract: {abstract_str}\\n\\n### Title: \"\n",
    "\n",
    "    device = \"cuda:0\"\n",
    "    encoding = tokenizer(prompt, return_tensors=\"pt\").to(device)\n",
    "    with torch.inference_mode():\n",
    "        outputs = model.generate(\n",
    "            input_ids = encoding.input_ids,\n",
    "            attention_mask = encoding.attention_mask,\n",
    "            **generation_params,\n",
    "        )\n",
    "\n",
    "    gen_title = tokenizer.decode(outputs[0], skip_special_tokens=True)\n",
    "    sequence_start = gen_title.find(\"### Title: \") + 11\n",
    "    title_processed = gen_title[sequence_start:]\n",
    "    val_answers.append(title_processed)"
   ]
  },
  {
   "cell_type": "code",
   "execution_count": 10,
   "metadata": {},
   "outputs": [
    {
     "name": "stderr",
     "output_type": "stream",
     "text": [
      "60it [00:00, 790.51it/s]"
     ]
    },
    {
     "name": "stdout",
     "output_type": "stream",
     "text": [
      "Оригинальный заголовок: invariance times\n",
      "Предсказанный заголовок: invariance of martingales\n",
      "-----------------------------------\n",
      "Оригинальный заголовок: a distance-based test of association between paired heterogeneous   genomic data\n",
      "Предсказанный заголовок: the generalized r-value test: a statistical method for detecting   shared variability across heterogeneous biological data\n",
      "-----------------------------------\n",
      "Оригинальный заголовок: how many paths to simulate correlated brownian motions?\n",
      "Предсказанный заголовок: the optimal path length for the simulation of correlated bm's\n",
      "-----------------------------------\n",
      "Оригинальный заголовок: the international linear collider\n",
      "Предсказанный заголовок: international linear accelerator for colliders\n",
      "-----------------------------------\n",
      "Оригинальный заголовок: the open connectome project data cluster: scalable analysis and vision   for high-throughput neuroscience\n",
      "Предсказанный заголовок: scalable data management for brain connectome analysis\n",
      "-----------------------------------\n",
      "Оригинальный заголовок: time-evolution of ionization and heating around first stars and   miniquasars\n",
      "Предсказанный заголовок: radiative transfers around first generation of minisquars, population ii   stars and black holes\n",
      "-----------------------------------\n",
      "Оригинальный заголовок: effects of viral and cytokine delays on dynamics of autoimmunity\n",
      "Предсказанный заголовок: dynamics of an autoimmune system with time delay\n",
      "-----------------------------------\n",
      "Оригинальный заголовок: isochronicity conditions for some real polynomial systems\n",
      "Предсказанный заголовок: isochrons of pertubed linear centers\n",
      "-----------------------------------\n",
      "Оригинальный заголовок: generalized local cohomology modules and homological gorenstein   dimensions\n",
      "Предсказанный заголовок: vanishing theorems for generalized cohomoelogy modules\n",
      "-----------------------------------\n",
      "Оригинальный заголовок: regression constraint for an explainable cervical cancer classifier\n",
      "Предсказанный заголовок: deep learning approach for automatic classification of cervical smear   cells\n",
      "-----------------------------------\n",
      "Оригинальный заголовок: an asymptotic analysis of a 2-d model of dynamically active compartments   coupled by bulk diffusion\n",
      "Предсказанный заголовок: spatially-segregated cell populations coupled by passive diffusion:   stability and synchronization\n",
      "-----------------------------------\n",
      "Оригинальный заголовок: retarded action principle and self-financing portfolio dynamics\n",
      "Предсказанный заголовок: a differential approach to the self financing portfolio problem\n",
      "-----------------------------------\n",
      "Оригинальный заголовок: the efficiency of generalized nash and variational equilibria\n",
      "Предсказанный заголовок: efficiency of shared constraint games\n",
      "-----------------------------------\n",
      "Оригинальный заголовок: tensor matched kronecker-structured subspace detection for missing   information\n",
      "Предсказанный заголовок: tensor matched-subspace detection\n",
      "-----------------------------------\n",
      "Оригинальный заголовок: channels, learning, queueing and remote estimation systems with a   utilization-dependent component\n",
      "Предсказанный заголовок: design and analysis of systems with utilization dependence\n",
      "-----------------------------------\n",
      "Оригинальный заголовок: role-similarity based comparison of directed networks\n",
      "Предсказанный заголовок: a similarity measure for complex network analysis\n",
      "-----------------------------------\n",
      "Оригинальный заголовок: description of the free motion with momentums in godel's universe\n",
      "Предсказанный заголовок: geodesics in the universe of godel\n",
      "-----------------------------------\n",
      "Оригинальный заголовок: hierarchical decision making in electricity grid management\n",
      "Предсказанный заголовок: reinforcement learning for power system reliability\n",
      "-----------------------------------\n",
      "Оригинальный заголовок: standardizing interestingness measures for association rules\n",
      "Предсказанный заголовок: standardizing interesting measures\n",
      "-----------------------------------\n",
      "Оригинальный заголовок: implied volatility surface: construction methodologies and   characteristics\n",
      "Предсказанный заголовок: implied volatility surfaces\n",
      "-----------------------------------\n",
      "Оригинальный заголовок: degrees of freedom of tongue movements in speech may be constrained by   biomechanics\n",
      "Предсказанный заголовок: tongue shapes and speech sounds\n",
      "-----------------------------------\n",
      "Оригинальный заголовок: an optimal algorithm for the thresholding bandit problem\n",
      "Предсказанный заголовок: optimal exploration in a pure bandits problem with budget\n",
      "-----------------------------------\n",
      "Оригинальный заголовок: an eshelby model for the highly viscous flow\n",
      "Предсказанный заголовок: dielectric and elastic relaxation in glass-forming liquids\n",
      "-----------------------------------\n",
      "Оригинальный заголовок: hedging and pricing european-type, early-exercise and discrete barrier   options using algorithm for the convolution of legendre series\n",
      "Предсказанный заголовок: conleg-based pricing of european options and early exercise options\n",
      "-----------------------------------\n",
      "Оригинальный заголовок: deep acs imaging in the globular cluster ngc 6397: the cluster color   magnitude diagram and luminosity function\n",
      "Предсказанный заголовок: cmd from hsi imaging of a massive cluster\n",
      "-----------------------------------\n",
      "Оригинальный заголовок: short-term load forecasting: the similar shape functional time series   predictor\n",
      "Предсказанный заголовок: a functional approach to short term load forecasts\n",
      "-----------------------------------\n",
      "Оригинальный заголовок: on the dependence of the wave function of a bound nucleon on its   momentum and the emc effect\n",
      "Предсказанный заголовок: nucleon-medium interaction and the nuclear radius\n",
      "-----------------------------------\n",
      "Оригинальный заголовок: inference for modulated stationary processes\n",
      "Предсказанный заголовок: statistical inference for modelled stationary and nonstationary time   series\n",
      "-----------------------------------\n",
      "Оригинальный заголовок: recovering preferences from finite data\n",
      "Предсказанный заголовок: convergence of choice-based preferences\n",
      "-----------------------------------\n",
      "Оригинальный заголовок: origami constructions\n",
      "Предсказанный заголовок: real numbers that can be constructed by folding paper\n",
      "-----------------------------------\n",
      "Оригинальный заголовок: permutations of strongly self-absorbing c*-algebras\n",
      "Предсказанный заголовок: on the $\\alpha$-equivalence of c\\*-tensorially absorbing algebras\n",
      "-----------------------------------\n",
      "Оригинальный заголовок: gemini: graph estimation with matrix variate normal instances\n",
      "Предсказанный заголовок: estimation of graphical structure and precision matrix of matrix   variates\n",
      "-----------------------------------\n",
      "Оригинальный заголовок: a note on quantum states and observables in psychological measurements\n",
      "Предсказанный заголовок: a psychological interpretation of qm\n",
      "-----------------------------------\n",
      "Оригинальный заголовок: pulsar magnetic field oscillation model and verification methods\n",
      "Предсказанный заголовок: a model of magnetic oscillations in pulsating stars\n",
      "-----------------------------------\n",
      "Оригинальный заголовок: generative models for functional data using phase and amplitude   separation\n",
      "Предсказанный заголовок: joint modeling of amplitude and phase in functional principal component   analysis\n",
      "-----------------------------------\n",
      "Оригинальный заголовок: inferring rankings using constrained sensing\n",
      "Предсказанный заголовок: exact recovery for sparse functions\n",
      "-----------------------------------\n",
      "Оригинальный заголовок: random lie group actions on compact manifolds: a perturbative analysis\n",
      "Предсказанный заголовок: random lie groups and bernoulli sums\n",
      "-----------------------------------\n",
      "Оригинальный заголовок: zero-range process with long-range interactions at a t-junction\n",
      "Предсказанный заголовок: a generalized transport model with limited long range interactions\n",
      "-----------------------------------\n",
      "Оригинальный заголовок: groups which are not properly 3-realizable\n",
      "Предсказанный заголовок: pro-(finite generated) free fundamental groups of polytopes\n",
      "-----------------------------------\n",
      "Оригинальный заголовок: collective classification of textual documents by guided   self-organization in t-cell cross-regulation dynamics\n",
      "Предсказанный заголовок: agent- based modeling of adaptive immunity and its application to   biomedical classification\n",
      "-----------------------------------\n",
      "Оригинальный заголовок: overhang\n",
      "Предсказанный заголовок: overhangs of stacks of blocks\n",
      "-----------------------------------\n",
      "Оригинальный заголовок: temperature fluctuations of interstellar dust grains\n",
      "Предсказанный заголовок: grain temperatures in diffuse and dense clouds: a stochastic approach\n",
      "-----------------------------------\n",
      "Оригинальный заголовок: updating probabilities: a complex agent based example\n",
      "Предсказанный заголовок: inference with data and constraint in complex systems\n",
      "-----------------------------------\n",
      "Оригинальный заголовок: histogram meets topic model: density estimation by mixture of histograms\n",
      "Предсказанный заголовок: bayesian estimation of the density of sparse observations using a   collapsed gibbs sampler\n",
      "-----------------------------------\n",
      "Оригинальный заголовок: transverse momentum broadening of vector bosons in heavy ion collisions   at the lhc\n",
      "Предсказанный заголовок: vector boson production in the initial state medium\n",
      "-----------------------------------\n",
      "Оригинальный заголовок: resonant decompositions and the i-method for cubic nonlinear schrodinger   on r^2\n",
      "Предсказанный заголовок: global wellposedness for a cubic nonlinear Schrödinger system\n",
      "-----------------------------------\n",
      "Оригинальный заголовок: a frequency-domain characterization of optimal error covariance for the   kalman-bucy filter\n",
      "Предсказанный заголовок: a frequency domain approach to algebraic integral equations for   optimal filtering\n",
      "-----------------------------------\n",
      "Оригинальный заголовок: volume growth and curvature decay of complete positively curved   k\\\"{a}hler manifolds\n",
      "Предсказанный заголовок: on the asymptotic behavior of the sectional curvatures of k\\^a-metrics\n",
      "-----------------------------------\n",
      "Оригинальный заголовок: evaluating conditional cash transfer policies with machine learning   methods\n",
      "Предсказанный заголовок: comparison of prediction performance between machine-learning models   and structural models: a case study of cash transfers\n",
      "-----------------------------------\n",
      "Оригинальный заголовок: change in recessive lethal alleles frequency in inbred populations\n",
      "Предсказанный заголовок: loss of rare lethal recessives in in-bred populations\n",
      "-----------------------------------\n",
      "Оригинальный заголовок: a fusion adversarial underwater image enhancement network with a public   test dataset\n",
      "Предсказанный заголовок: underwater image quality enhancement with adversarially trained fusion   network\n",
      "-----------------------------------\n",
      "Оригинальный заголовок: high frequency asymptotics of global vibrations in a problem with   concentrated mass\n",
      "Предсказанный заголовок: global vibrations of an elastically deformed system\n",
      "-----------------------------------\n",
      "Оригинальный заголовок: the extremal values of the wiener index of a tree with given degree   sequence\n",
      "Предсказанный заголовок: wiener indices of trees\n",
      "-----------------------------------\n",
      "Оригинальный заголовок: informed principal problems in bilateral trading\n",
      "Предсказанный заголовок: incentive compatibility in bilateral principal-agent problems with   imperfect information\n",
      "-----------------------------------\n",
      "Оригинальный заголовок: graphs for margins of bayesian networks\n",
      "Предсказанный заголовок: marginal graphical causal models\n",
      "-----------------------------------\n",
      "Оригинальный заголовок: the effect of a market factor on information flow between stocks using   minimal spanning tree\n",
      "Предсказанный заголовок: investigation of stock market information flows using a minimal   spanning-tree approach\n",
      "-----------------------------------\n",
      "Оригинальный заголовок: magnetic properties of g-band bright points in a sunspot moat\n",
      "Предсказанный заголовок: magnetic field structure and temperature distribution of visible   magnetic features in a sun spot\n",
      "-----------------------------------\n",
      "Оригинальный заголовок: gaw - an imaging atmospheric cherenkov telescope with large field of   view\n",
      "Предсказанный заголовок: gaw: a gamma-ray air-shower experiment\n",
      "-----------------------------------\n",
      "Оригинальный заголовок: automatic analysis of eegs using big data and hybrid deep learning   architectures\n",
      "Предсказанный заголовок: a high-performance automated classification algorithm for epileptic   events in eecgs\n",
      "-----------------------------------\n",
      "Оригинальный заголовок: collaborative filtering bandits\n",
      "Предсказанный заголовок: clustering-aware collaborative recommendation\n",
      "-----------------------------------\n",
      "Maccro Bleu: 0.375166\n"
     ]
    },
    {
     "name": "stderr",
     "output_type": "stream",
     "text": [
      "\n"
     ]
    }
   ],
   "source": [
    "macro_bleu = 0\n",
    "n_gram_weights = [0.333, 0.334, 0.333]\n",
    "for i, abstract_str in tqdm(enumerate(data[\"val\"][\"abstract\"][:60])):\n",
    "    gen = val_answers[i]\n",
    "    ori = data[\"val\"][\"title\"][i]\n",
    "    print(f'Оригинальный заголовок: {ori}')\n",
    "    print(f'Предсказанный заголовок: {gen}')\n",
    "    print('-----------------------------------')\n",
    "\n",
    "    bleu_score = nltk.translate.bleu_score.sentence_bleu(\n",
    "            [ori],\n",
    "            gen,\n",
    "            weights = n_gram_weights\n",
    "        )   \n",
    "    macro_bleu += bleu_score\n",
    "print(f\"Maccro Bleu: {macro_bleu / 60.:4f}\")"
   ]
  },
  {
   "cell_type": "code",
   "execution_count": null,
   "metadata": {},
   "outputs": [],
   "source": []
  }
 ],
 "metadata": {
  "kernelspec": {
   "display_name": "Python 3 (ipykernel)",
   "language": "python",
   "name": "python3"
  },
  "language_info": {
   "codemirror_mode": {
    "name": "ipython",
    "version": 3
   },
   "file_extension": ".py",
   "mimetype": "text/x-python",
   "name": "python",
   "nbconvert_exporter": "python",
   "pygments_lexer": "ipython3",
   "version": "3.10.13"
  }
 },
 "nbformat": 4,
 "nbformat_minor": 4
}
